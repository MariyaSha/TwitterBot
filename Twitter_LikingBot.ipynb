{
 "cells": [
  {
   "cell_type": "code",
   "execution_count": null,
   "id": "51779cf7",
   "metadata": {},
   "outputs": [],
   "source": [
    "#imports here\n",
    "from selenium import webdriver\n",
    "import time\n",
    "import random"
   ]
  },
  {
   "cell_type": "code",
   "execution_count": null,
   "id": "cfcdd8a8",
   "metadata": {},
   "outputs": [],
   "source": [
    "def random_wait(min, max):\n",
    "    #customize random wait time\n",
    "    seconds = random.randint(min,max)\n",
    "    time.sleep(seconds)"
   ]
  },
  {
   "cell_type": "code",
   "execution_count": null,
   "id": "dcc46420",
   "metadata": {},
   "outputs": [],
   "source": [
    "def activate_bot(n_scrolls, keyword):\n",
    "    #open browser at Twitter\n",
    "    driver = webdriver.Chrome()\n",
    "    driver.get(\"https://twitter.com/i/flow/login\")\n",
    "\n",
    "    random_wait(1, 4)\n",
    "    #enter username\n",
    "    username = driver.find_element_by_xpath(\"//input\")\n",
    "    username.send_keys(\"my_username\")\n",
    "    \n",
    "    #click on the \"next\" button\n",
    "    all_buttons = driver.find_elements_by_xpath(\"//div[@role='button']\")\n",
    "    all_buttons[-2].click()\n",
    "\n",
    "    #enter password & login\n",
    "    random_wait(1, 4)\n",
    "    password = driver.find_element_by_xpath(\"//input[@type='password']\")\n",
    "    password.send_keys(\"my_password\")\n",
    "    \n",
    "    #click on the \"login\" button\n",
    "    all_buttons = driver.find_elements_by_xpath(\"//div[@role='button']\")\n",
    "    all_buttons[-1].click()\n",
    "    \n",
    "    #search a keyword\n",
    "    random_wait(1, 4)\n",
    "    driver.get(\"https://twitter.com/search?q=\" + keyword + \"&src=typed_query&f=top\")\n",
    "\n",
    "    n_liked_posts = 0\n",
    "\n",
    "    for scroll in range(n_scrolls):   \n",
    "        #scroll with javascript\n",
    "        driver.execute_script(\"window.scrollTo(0, document.body.scrollHeight);\")\n",
    "        random_wait(1, 4)  \n",
    "\n",
    "        #fetch posts to like\n",
    "        likes = driver.find_elements_by_xpath(\"//div[contains(@aria-label, 'Like')]\")\n",
    "        print(\"fetched\", len(likes) , \"posts to like\")\n",
    "        n_liked_posts += len(likes)\n",
    "\n",
    "        #like all posts\n",
    "        for idx, val in enumerate(likes):\n",
    "            random_wait(1, 8)\n",
    "            driver.execute_script(\"arguments[0].click();\", likes[idx])\n",
    "\n",
    "    print(\"bot is done.\")\n",
    "    print(\"total number of liked posts:\", n_liked_posts)"
   ]
  },
  {
   "cell_type": "code",
   "execution_count": null,
   "id": "e0be15ed",
   "metadata": {},
   "outputs": [],
   "source": [
    "activate_bot(2, \"sky\")"
   ]
  }
 ],
 "metadata": {
  "kernelspec": {
   "display_name": "Python 3 (ipykernel)",
   "language": "python",
   "name": "python3"
  },
  "language_info": {
   "codemirror_mode": {
    "name": "ipython",
    "version": 3
   },
   "file_extension": ".py",
   "mimetype": "text/x-python",
   "name": "python",
   "nbconvert_exporter": "python",
   "pygments_lexer": "ipython3",
   "version": "3.9.7"
  }
 },
 "nbformat": 4,
 "nbformat_minor": 5
}
